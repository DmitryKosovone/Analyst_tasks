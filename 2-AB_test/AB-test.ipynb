{
 "cells": [
  {
   "cell_type": "markdown",
   "id": "bdcb5762-de98-4fcb-aa0b-fe9c5520747d",
   "metadata": {},
   "source": [
    "# AB-тест"
   ]
  },
  {
   "cell_type": "markdown",
   "id": "378990f8-938d-47f7-b02f-2681d1c1c494",
   "metadata": {},
   "source": [
    "**Описание** : Команда ML разработала новый алгоритм рекомендательной постов. На тестовой группе (2) был использован новыый алгоритм. Необходимо проверить гипотезу о том, что новый алгоритм рекомендации постов во 2-й группе приведет к увеличению CTR.\n",
    "\n",
    "\n",
    "**Задачи** : По данным с '2024-08-02 по 2024-08-08':\n",
    "\n",
    "1. Проверить гипотезу о том, что новый алгоритм рекомендации постов во 2-й группе приведет к увеличению CTR\n",
    "2. Написать рекомендацию, стоит ли раскатывать новый алгоритм на всех новых пользователей.\n",
    "\n",
    "**Рассмтариваемый показатель** : CTR, сглаженный ctr\n",
    "**Используемые методы** : t-test, Mann-Whitney U test, Пуассоновский бутстреп, тест Манна-Уитни поверх бакетного преобразования"
   ]
  },
  {
   "cell_type": "code",
   "execution_count": 1,
   "id": "9454edce-8e55-4ce7-accd-7454d49e2a78",
   "metadata": {},
   "outputs": [],
   "source": [
    "import pandas as pd\n",
    "import pandahouse as ph\n",
    "import matplotlib.pyplot as plt\n",
    "import seaborn as sns\n",
    "import numpy as np\n",
    "from scipy import stats\n",
    "\n",
    "\n",
    "sns.set_style(\"whitegrid\", {\"axes.facecolor\": \"white\"})"
   ]
  },
  {
   "cell_type": "markdown",
   "id": "71beefd4-304d-4fcb-b1f3-89b1acf658d0",
   "metadata": {},
   "source": [
    "## 1 Подготовка данных"
   ]
  },
  {
   "cell_type": "code",
   "execution_count": 2,
   "id": "4dd4a31a-b437-4dd6-bc2c-baaca1842fd4",
   "metadata": {},
   "outputs": [],
   "source": [
    "connection = {'host': 'https://clickhouse.lab.karpov.courses',\n",
    "'database':'simulator_20240820',\n",
    "'user':'student',\n",
    "'password':'dpo_python_2020'\n",
    "}\n",
    "\n",
    "#текст запроса\n",
    "query = '''\n",
    "select user_id, countIf(action='view')  as views, countIf(action='like')  as likes, countIf(action='like')/countIf(action='view') as ctr, exp_group\n",
    "from simulator_20240820.feed_actions\n",
    "where toDate(time) between '2024-08-02' and '2024-08-08'  and exp_group in [1,2]\n",
    "group by user_id, exp_group\n",
    "'''\n",
    "\n",
    "# эта функция выполнит запрос и запишет его результат в pandas DataFrame\n",
    "df = ph.read_clickhouse(query, connection=connection)"
   ]
  },
  {
   "cell_type": "code",
   "execution_count": 3,
   "id": "051182a8-a7d1-4811-bb18-a87bda625202",
   "metadata": {},
   "outputs": [
    {
     "data": {
      "text/html": [
       "<div>\n",
       "<style scoped>\n",
       "    .dataframe tbody tr th:only-of-type {\n",
       "        vertical-align: middle;\n",
       "    }\n",
       "\n",
       "    .dataframe tbody tr th {\n",
       "        vertical-align: top;\n",
       "    }\n",
       "\n",
       "    .dataframe thead th {\n",
       "        text-align: right;\n",
       "    }\n",
       "</style>\n",
       "<table border=\"1\" class=\"dataframe\">\n",
       "  <thead>\n",
       "    <tr style=\"text-align: right;\">\n",
       "      <th></th>\n",
       "      <th>user_id</th>\n",
       "      <th>views</th>\n",
       "      <th>likes</th>\n",
       "      <th>ctr</th>\n",
       "      <th>exp_group</th>\n",
       "    </tr>\n",
       "  </thead>\n",
       "  <tbody>\n",
       "    <tr>\n",
       "      <th>0</th>\n",
       "      <td>109963</td>\n",
       "      <td>15</td>\n",
       "      <td>3</td>\n",
       "      <td>0.200000</td>\n",
       "      <td>1</td>\n",
       "    </tr>\n",
       "    <tr>\n",
       "      <th>1</th>\n",
       "      <td>26117</td>\n",
       "      <td>141</td>\n",
       "      <td>32</td>\n",
       "      <td>0.226950</td>\n",
       "      <td>1</td>\n",
       "    </tr>\n",
       "    <tr>\n",
       "      <th>2</th>\n",
       "      <td>138232</td>\n",
       "      <td>73</td>\n",
       "      <td>18</td>\n",
       "      <td>0.246575</td>\n",
       "      <td>1</td>\n",
       "    </tr>\n",
       "    <tr>\n",
       "      <th>3</th>\n",
       "      <td>26295</td>\n",
       "      <td>141</td>\n",
       "      <td>39</td>\n",
       "      <td>0.276596</td>\n",
       "      <td>1</td>\n",
       "    </tr>\n",
       "    <tr>\n",
       "      <th>4</th>\n",
       "      <td>18392</td>\n",
       "      <td>32</td>\n",
       "      <td>7</td>\n",
       "      <td>0.218750</td>\n",
       "      <td>1</td>\n",
       "    </tr>\n",
       "  </tbody>\n",
       "</table>\n",
       "</div>"
      ],
      "text/plain": [
       "   user_id  views  likes       ctr  exp_group\n",
       "0   109963     15      3  0.200000          1\n",
       "1    26117    141     32  0.226950          1\n",
       "2   138232     73     18  0.246575          1\n",
       "3    26295    141     39  0.276596          1\n",
       "4    18392     32      7  0.218750          1"
      ]
     },
     "execution_count": 3,
     "metadata": {},
     "output_type": "execute_result"
    }
   ],
   "source": [
    "df.head()"
   ]
  },
  {
   "cell_type": "code",
   "execution_count": 4,
   "id": "3ce2126e-d999-41a8-96a2-b6a977b44572",
   "metadata": {},
   "outputs": [
    {
     "data": {
      "image/png": "[encoded data removed]",
      "text/plain": [
       "<Figure size 432x288 with 1 Axes>"
      ]
     },
     "metadata": {},
     "output_type": "display_data"
    }
   ],
   "source": [
    "sns.histplot(data=df, x='ctr', hue='exp_group')\n",
    "plt.show()"
   ]
  },
  {
   "cell_type": "markdown",
   "id": "57958d57-40db-488d-9313-544f54b4e27b",
   "metadata": {},
   "source": [
    "Распределение исследуемой величины в двух группах отличается, что может говорить о воздействие новой рекомендательной системы."
   ]
  },
  {
   "cell_type": "markdown",
   "id": "7ad0a950-ceb8-449b-9b73-87488e33e062",
   "metadata": {},
   "source": [
    "## 1.1 Расчёт сглаженного ctr"
   ]
  },
  {
   "cell_type": "code",
   "execution_count": 5,
   "id": "6ef6301f-3445-4bdb-918a-61916dbf9b44",
   "metadata": {},
   "outputs": [],
   "source": [
    "# Расчёт глобального CTR\n",
    "\n",
    "global_ctr1 = df[df.exp_group == 1].likes.sum()/df[df.exp_group == 1].views.sum()\n",
    "global_ctr2 = df[df.exp_group == 2].likes.sum()/df[df.exp_group == 2].views.sum()\n",
    "\n",
    "df['global_ctr'] = df['exp_group'].apply(\n",
    "    lambda x: global_ctr1 if x==1 else global_ctr2)"
   ]
  },
  {
   "cell_type": "code",
   "execution_count": 6,
   "id": "c33a29f4-c4e5-4f33-8ab8-2252d9b70570",
   "metadata": {},
   "outputs": [],
   "source": [
    "# Расчёт сглаженного ctr\n",
    "\n",
    "df['smothed_ctr'] = (df['likes'] + 5 * df['global_ctr'])/(df['views'] + 5)"
   ]
  },
  {
   "cell_type": "code",
   "execution_count": 7,
   "id": "3a74cda7-0493-4a15-b3b2-8330d9838cfa",
   "metadata": {},
   "outputs": [
    {
     "data": {
      "image/png": "[encoded data removed]",
      "text/plain": [
       "<Figure size 432x288 with 1 Axes>"
      ]
     },
     "metadata": {},
     "output_type": "display_data"
    }
   ],
   "source": [
    "# Распределение сглаженного ctr\n",
    "\n",
    "sns.histplot(data=df, x='smothed_ctr', hue='exp_group')\n",
    "plt.show()"
   ]
  },
  {
   "cell_type": "code",
   "execution_count": 8,
   "id": "9a84ea28-2995-4d52-9181-d0b8288945c0",
   "metadata": {},
   "outputs": [
    {
     "data": {
      "text/html": [
       "<div>\n",
       "<style scoped>\n",
       "    .dataframe tbody tr th:only-of-type {\n",
       "        vertical-align: middle;\n",
       "    }\n",
       "\n",
       "    .dataframe tbody tr th {\n",
       "        vertical-align: top;\n",
       "    }\n",
       "\n",
       "    .dataframe thead th {\n",
       "        text-align: right;\n",
       "    }\n",
       "</style>\n",
       "<table border=\"1\" class=\"dataframe\">\n",
       "  <thead>\n",
       "    <tr style=\"text-align: right;\">\n",
       "      <th></th>\n",
       "      <th>mean</th>\n",
       "      <th>median</th>\n",
       "    </tr>\n",
       "    <tr>\n",
       "      <th>exp_group</th>\n",
       "      <th></th>\n",
       "      <th></th>\n",
       "    </tr>\n",
       "  </thead>\n",
       "  <tbody>\n",
       "    <tr>\n",
       "      <th>1</th>\n",
       "      <td>0.216774</td>\n",
       "      <td>0.205882</td>\n",
       "    </tr>\n",
       "    <tr>\n",
       "      <th>2</th>\n",
       "      <td>0.216102</td>\n",
       "      <td>0.153285</td>\n",
       "    </tr>\n",
       "  </tbody>\n",
       "</table>\n",
       "</div>"
      ],
      "text/plain": [
       "               mean    median\n",
       "exp_group                    \n",
       "1          0.216774  0.205882\n",
       "2          0.216102  0.153285"
      ]
     },
     "execution_count": 8,
     "metadata": {},
     "output_type": "execute_result"
    }
   ],
   "source": [
    "df.groupby('exp_group')['ctr'].agg(['mean', 'median'])"
   ]
  },
  {
   "cell_type": "markdown",
   "id": "7c45d10e-a3c8-476d-89b8-b1b642ea9866",
   "metadata": {},
   "source": [
    "## 2 Анализ CTR в двух группах"
   ]
  },
  {
   "cell_type": "markdown",
   "id": "71963646-cf68-4b1e-b981-3a62516c2a9d",
   "metadata": {},
   "source": [
    "### Формирование гипотез:\n",
    "- H0: CTR контрольной группы и CTR эспериментальной группы не различаются \n",
    "- H1: CTR контрольной группы и CTR эспериментальной группы различаются"
   ]
  },
  {
   "cell_type": "markdown",
   "id": "e2e113c3-43fa-459c-a065-86753c050073",
   "metadata": {},
   "source": [
    "### 2.1 t-test ctr"
   ]
  },
  {
   "cell_type": "code",
   "execution_count": 9,
   "id": "05b137bf-4b06-4593-bf16-92d60ab230bd",
   "metadata": {},
   "outputs": [],
   "source": [
    "pvalue_ttest = stats.ttest_ind(df[df.exp_group == 1]['ctr'], df[df.exp_group == 2]['ctr'], equal_var=False).pvalue"
   ]
  },
  {
   "cell_type": "markdown",
   "id": "2980741c-aa2a-4de0-a6a9-2b478356023f",
   "metadata": {},
   "source": [
    "### 2.2 тест Манна-Уитни"
   ]
  },
  {
   "cell_type": "code",
   "execution_count": 10,
   "id": "c2421924-eb0f-4681-88e1-721e1ed5cd3d",
   "metadata": {},
   "outputs": [],
   "source": [
    "pvalue_MannWhitneytest = stats.mannwhitneyu(df[df.exp_group == 1]['ctr'], df[df.exp_group == 2]['ctr']).pvalue"
   ]
  },
  {
   "cell_type": "markdown",
   "id": "df04c53b-813e-4e28-8209-49b727c10f0e",
   "metadata": {},
   "source": [
    "### 2.3 t-test на сглаженном CTR"
   ]
  },
  {
   "cell_type": "code",
   "execution_count": 11,
   "id": "9afe8692-ae2e-4adc-a0c5-2a5a1d9c3cbc",
   "metadata": {},
   "outputs": [],
   "source": [
    "pvalue__ttest_smoothed_ctr = stats.ttest_ind(df[df.exp_group == 1]['smothed_ctr'], df[df.exp_group == 2]['smothed_ctr'], equal_var=False).pvalue"
   ]
  },
  {
   "cell_type": "code",
   "execution_count": 12,
   "id": "fff3c6c6-9cfe-4c6d-a385-76fff3e2a3fd",
   "metadata": {},
   "outputs": [],
   "source": [
    "pvalue_Mann_smoothed_ctr = stats.mannwhitneyu(df[df.exp_group == 1]['smothed_ctr'], df[df.exp_group == 2]['smothed_ctr']).pvalue"
   ]
  },
  {
   "cell_type": "markdown",
   "id": "6a3335be-839e-4774-a3bb-6407efac3705",
   "metadata": {},
   "source": [
    "### 2.4 Пуассоновский бутстреп"
   ]
  },
  {
   "cell_type": "code",
   "execution_count": 13,
   "id": "017a48bf-eb18-40b7-98d5-b0ff436357e7",
   "metadata": {},
   "outputs": [
    {
     "data": {
      "image/png": "[encoded data removed]",
      "text/plain": [
       "<Figure size 432x288 with 1 Axes>"
      ]
     },
     "metadata": {},
     "output_type": "display_data"
    }
   ],
   "source": [
    "def bootstrap(likes1, views1, likes2, views2, n_bootstrap=2000):\n",
    "\n",
    "    poisson_bootstraps1 = stats.poisson(1).rvs(\n",
    "        (n_bootstrap, len(likes1))).astype(np.int64)\n",
    "\n",
    "    poisson_bootstraps2 = stats.poisson(1).rvs(\n",
    "            (n_bootstrap, len(likes2))).astype(np.int64)\n",
    "    \n",
    "    globalCTR1 = (poisson_bootstraps1*likes1).sum(axis=1)/(poisson_bootstraps1*views1).sum(axis=1)\n",
    "    \n",
    "    globalCTR2 = (poisson_bootstraps2*likes2).sum(axis=1)/(poisson_bootstraps2*views2).sum(axis=1)\n",
    "\n",
    "    return globalCTR1, globalCTR2\n",
    "\n",
    "\n",
    "likes1 = df[df.exp_group == 1].likes.to_numpy()\n",
    "views1 = df[df.exp_group == 1].views.to_numpy()\n",
    "likes2 = df[df.exp_group == 2].likes.to_numpy()\n",
    "views2 = df[df.exp_group == 2].views.to_numpy()\n",
    "\n",
    "ctr1, ctr2 = bootstrap(likes1, views1, likes2, views2)\n",
    "\n",
    "sns.histplot(ctr1)\n",
    "sns.histplot(ctr2)\n",
    "plt.show()"
   ]
  },
  {
   "cell_type": "code",
   "execution_count": 14,
   "id": "351e351b-5cb7-4a8d-aada-7fd602d039c6",
   "metadata": {},
   "outputs": [],
   "source": [
    "q = \"\"\"\n",
    "\n",
    "SELECT exp_group, bucket,\n",
    "    sum(likes)/sum(views) as bucket_ctr,\n",
    "    quantileExact(0.9)(ctr) as ctr9\n",
    "FROM (SELECT exp_group, \n",
    "        xxHash64(user_id)%50 as bucket,\n",
    "        user_id,\n",
    "        sum(action = 'like') as likes,\n",
    "        sum(action = 'view') as views,\n",
    "        likes/views as ctr\n",
    "    FROM {db}.feed_actions \n",
    "    WHERE toDate(time) between '2024-08-02' and '2024-08-08'\n",
    "        and exp_group in (1,2)\n",
    "    GROUP BY exp_group, bucket, user_id)\n",
    "GROUP BY exp_group, bucket\n",
    "\"\"\"\n",
    "\n",
    "df = ph.read_clickhouse(q, connection=connection)\n",
    "\n",
    "#тест Манна-Уитни видит отличие\n",
    "pvalue_bucket = stats.mannwhitneyu(df[df.exp_group == 1].bucket_ctr, \n",
    "                   df[df.exp_group == 2].bucket_ctr, \n",
    "                   alternative = 'two-sided').pvalue"
   ]
  },
  {
   "cell_type": "code",
   "execution_count": 15,
   "id": "8116d30e-a656-432a-bda4-e6ea135e4518",
   "metadata": {},
   "outputs": [
    {
     "data": {
      "text/html": [
       "<div>\n",
       "<style scoped>\n",
       "    .dataframe tbody tr th:only-of-type {\n",
       "        vertical-align: middle;\n",
       "    }\n",
       "\n",
       "    .dataframe tbody tr th {\n",
       "        vertical-align: top;\n",
       "    }\n",
       "\n",
       "    .dataframe thead th {\n",
       "        text-align: right;\n",
       "    }\n",
       "</style>\n",
       "<table border=\"1\" class=\"dataframe\">\n",
       "  <thead>\n",
       "    <tr style=\"text-align: right;\">\n",
       "      <th></th>\n",
       "      <th>method</th>\n",
       "      <th>p-Value</th>\n",
       "    </tr>\n",
       "  </thead>\n",
       "  <tbody>\n",
       "    <tr>\n",
       "      <th>0</th>\n",
       "      <td>t_test</td>\n",
       "      <td>6.853733e-01</td>\n",
       "    </tr>\n",
       "    <tr>\n",
       "      <th>1</th>\n",
       "      <td>MannWhitneytest</td>\n",
       "      <td>4.632206e-45</td>\n",
       "    </tr>\n",
       "    <tr>\n",
       "      <th>2</th>\n",
       "      <td>ttest_smoothed_ctr</td>\n",
       "      <td>5.166679e-02</td>\n",
       "    </tr>\n",
       "    <tr>\n",
       "      <th>3</th>\n",
       "      <td>MannWhitneytest_smoothed_ctr</td>\n",
       "      <td>2.396534e-50</td>\n",
       "    </tr>\n",
       "    <tr>\n",
       "      <th>4</th>\n",
       "      <td>bootstrap</td>\n",
       "      <td>0.000000e+00</td>\n",
       "    </tr>\n",
       "    <tr>\n",
       "      <th>5</th>\n",
       "      <td>bucket</td>\n",
       "      <td>2.657643e-07</td>\n",
       "    </tr>\n",
       "  </tbody>\n",
       "</table>\n",
       "</div>"
      ],
      "text/plain": [
       "                         method       p-Value\n",
       "0                        t_test  6.853733e-01\n",
       "1               MannWhitneytest  4.632206e-45\n",
       "2            ttest_smoothed_ctr  5.166679e-02\n",
       "3  MannWhitneytest_smoothed_ctr  2.396534e-50\n",
       "4                     bootstrap  0.000000e+00\n",
       "5                        bucket  2.657643e-07"
      ]
     },
     "execution_count": 15,
     "metadata": {},
     "output_type": "execute_result"
    }
   ],
   "source": [
    "pvalue_diction = {'t_test':pvalue_ttest, 'MannWhitneytest':pvalue_MannWhitneytest, 'ttest_smoothed_ctr':pvalue__ttest_smoothed_ctr, 'MannWhitneytest_smoothed_ctr':pvalue_Mann_smoothed_ctr, 'bootstrap':0, 'bucket':pvalue_bucket}\n",
    "pd.DataFrame(list(pvalue_diction.items()), columns=['method', 'p-Value'])"
   ]
  },
  {
   "cell_type": "markdown",
   "id": "5bee78c3-373c-4ed3-a0d5-bf3244faf74b",
   "metadata": {},
   "source": [
    "## Выводы: \n",
    "- При проведение различных методов проверки гипотез определена статистическая значимость различия CTR в двух группах.   \n",
    "- t-test показал, что различие ctr не значимо, в отличии от других тестов, что не позволяет отвергнуть гипотезу о равенстве ctr в двух группах, однако это связвно с тем, что показатель ctr во 2 группе имеет скошенное распределение.\n",
    "- Большинство тестов показало различие статистически значимым. В средних значениях оно составляет 0.06%, а медианное значение упало на 5%. Данные метрики могут говорить, что рекомендательные системы могли снизить ctr. В связи с этим рекомендую не выкатывать данный алгоритм на всех пользователей.  "
   ]
  },
  {
   "cell_type": "code",
   "execution_count": null,
   "id": "033696dd-328b-4c55-af80-c2f4e123a424",
   "metadata": {},
   "outputs": [],
   "source": []
  }
 ],
 "metadata": {
  "kernelspec": {
   "display_name": "Python 3 (ipykernel)",
   "language": "python",
   "name": "python3"
  },
  "language_info": {
   "codemirror_mode": {
    "name": "ipython",
    "version": 3
   },
   "file_extension": ".py",
   "mimetype": "text/x-python",
   "name": "python",
   "nbconvert_exporter": "python",
   "pygments_lexer": "ipython3",
   "version": "3.8.10"
  }
 },
 "nbformat": 4,
 "nbformat_minor": 5
}
