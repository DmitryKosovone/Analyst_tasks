{
 "cells": [
  {
   "cell_type": "markdown",
   "id": "bdcb5762-de98-4fcb-aa0b-fe9c5520747d",
   "metadata": {},
   "source": [
    "# AA-тест"
   ]
  },
  {
   "cell_type": "markdown",
   "id": "378990f8-938d-47f7-b02f-2681d1c1c494",
   "metadata": {},
   "source": [
    "До проведения AB-тестирования и проверки гипотез, необходимо убедиться в корректности разделения пользователей на группы. Рассматриваемый показатель не должен отличаться в группах. Для проверки системы сплитования необходимо проведение AA- теста\n",
    "\n",
    "\n",
    "**Задачи** : По данным с '2024-07-26' по '2024-08-01':\n",
    "\n",
    "1. Необходимо провести симуляцию 10000 А/А-тестов.\n",
    "1. Построить гистограмму распределения получившихся 10000 p-values.\n",
    "2. Посчитать, какой процент p values оказался меньше либо равен 0.05\n",
    "3. Определить, корректно ли работает наша система сплитования.\n",
    "\n",
    "**Рассмтариваемый показатель** : CTR"
   ]
  },
  {
   "cell_type": "code",
   "execution_count": 1,
   "id": "9454edce-8e55-4ce7-accd-7454d49e2a78",
   "metadata": {},
   "outputs": [],
   "source": [
    "import pandas as pd\n",
    "import pandahouse as ph\n",
    "import matplotlib.pyplot as plt\n",
    "import seaborn as sns\n",
    "import numpy as np\n",
    "from scipy import stats\n",
    "\n",
    "\n",
    "sns.set_style(\"whitegrid\", {\"axes.facecolor\": \"white\"})"
   ]
  },
  {
   "cell_type": "code",
   "execution_count": 2,
   "id": "4dd4a31a-b437-4dd6-bc2c-baaca1842fd4",
   "metadata": {},
   "outputs": [],
   "source": [
    "connection = {'host': 'https://clickhouse.lab.karpov.courses',\n",
    "'database':'simulator_20240820',\n",
    "'user':'student',\n",
    "'password':'dpo_python_2020'\n",
    "}\n",
    "\n",
    "#текст запроса\n",
    "query = '''\n",
    "select user_id, countIf(action='view')  as views, countIf(action='like')  as likes, countIf(action='like')/countIf(action='view') as ctr, exp_group\n",
    "from simulator_20240820.feed_actions\n",
    "where toDate(time) between '2024-07-26' and '2024-08-01' and exp_group in [2,3]\n",
    "group by user_id, exp_group\n",
    "'''\n",
    "\n",
    "# эта функция выполнит запрос и запишет его результат в pandas DataFrame\n",
    "df = ph.read_clickhouse(query, connection=connection)"
   ]
  },
  {
   "cell_type": "code",
   "execution_count": 3,
   "id": "051182a8-a7d1-4811-bb18-a87bda625202",
   "metadata": {},
   "outputs": [
    {
     "data": {
      "text/html": [
       "<div>\n",
       "<style scoped>\n",
       "    .dataframe tbody tr th:only-of-type {\n",
       "        vertical-align: middle;\n",
       "    }\n",
       "\n",
       "    .dataframe tbody tr th {\n",
       "        vertical-align: top;\n",
       "    }\n",
       "\n",
       "    .dataframe thead th {\n",
       "        text-align: right;\n",
       "    }\n",
       "</style>\n",
       "<table border=\"1\" class=\"dataframe\">\n",
       "  <thead>\n",
       "    <tr style=\"text-align: right;\">\n",
       "      <th></th>\n",
       "      <th>user_id</th>\n",
       "      <th>views</th>\n",
       "      <th>likes</th>\n",
       "      <th>ctr</th>\n",
       "      <th>exp_group</th>\n",
       "    </tr>\n",
       "  </thead>\n",
       "  <tbody>\n",
       "    <tr>\n",
       "      <th>0</th>\n",
       "      <td>115383</td>\n",
       "      <td>248</td>\n",
       "      <td>38</td>\n",
       "      <td>0.153226</td>\n",
       "      <td>3</td>\n",
       "    </tr>\n",
       "    <tr>\n",
       "      <th>1</th>\n",
       "      <td>10326</td>\n",
       "      <td>132</td>\n",
       "      <td>24</td>\n",
       "      <td>0.181818</td>\n",
       "      <td>3</td>\n",
       "    </tr>\n",
       "    <tr>\n",
       "      <th>2</th>\n",
       "      <td>123580</td>\n",
       "      <td>122</td>\n",
       "      <td>25</td>\n",
       "      <td>0.204918</td>\n",
       "      <td>3</td>\n",
       "    </tr>\n",
       "    <tr>\n",
       "      <th>3</th>\n",
       "      <td>131473</td>\n",
       "      <td>98</td>\n",
       "      <td>19</td>\n",
       "      <td>0.193878</td>\n",
       "      <td>2</td>\n",
       "    </tr>\n",
       "    <tr>\n",
       "      <th>4</th>\n",
       "      <td>23985</td>\n",
       "      <td>44</td>\n",
       "      <td>12</td>\n",
       "      <td>0.272727</td>\n",
       "      <td>2</td>\n",
       "    </tr>\n",
       "  </tbody>\n",
       "</table>\n",
       "</div>"
      ],
      "text/plain": [
       "   user_id  views  likes       ctr  exp_group\n",
       "0   115383    248     38  0.153226          3\n",
       "1    10326    132     24  0.181818          3\n",
       "2   123580    122     25  0.204918          3\n",
       "3   131473     98     19  0.193878          2\n",
       "4    23985     44     12  0.272727          2"
      ]
     },
     "execution_count": 3,
     "metadata": {},
     "output_type": "execute_result"
    }
   ],
   "source": [
    "df.head()"
   ]
  },
  {
   "cell_type": "code",
   "execution_count": 4,
   "id": "3ce2126e-d999-41a8-96a2-b6a977b44572",
   "metadata": {},
   "outputs": [
    {
     "data": {
      "image/png": "[encoded data removed]",
      "text/plain": [
       "<Figure size 432x288 with 1 Axes>"
      ]
     },
     "metadata": {},
     "output_type": "display_data"
    }
   ],
   "source": [
    "sns.histplot(data=df, x='ctr', hue='exp_group')\n",
    "plt.show()"
   ]
  },
  {
   "cell_type": "markdown",
   "id": "57958d57-40db-488d-9313-544f54b4e27b",
   "metadata": {},
   "source": [
    "Распределение исследуемой величины в двух группах визуально совпадают."
   ]
  },
  {
   "cell_type": "code",
   "execution_count": 5,
   "id": "bbeb7987-cf9b-48d6-b36a-a5ed26047e8a",
   "metadata": {},
   "outputs": [],
   "source": [
    "def aa_test(data, num_experiments, num_samples, num_group_1, num_group_2):\n",
    "    \n",
    "    p_values = []\n",
    "    exp_group_1 = data[data['exp_group'] == num_group_1].ctr\n",
    "    exp_group_2 = data[data['exp_group'] == num_group_2].ctr\n",
    "\n",
    "    for _ in range(num_experiments):\n",
    "        sample_exp_group_1 = exp_group_1.sample(n=num_samples)       \n",
    "        sample_exp_group_2 = exp_group_2.sample(n=num_samples)        \n",
    "        p_value = stats.ttest_ind(sample_exp_group_1, sample_exp_group_2, equal_var=False).pvalue      \n",
    "        p_values.append(p_value)\n",
    "    return p_values"
   ]
  },
  {
   "cell_type": "code",
   "execution_count": 6,
   "id": "01ea3bb4-fa7f-4bfb-aa8b-890d19f41e4b",
   "metadata": {},
   "outputs": [],
   "source": [
    "result_ttest = pd.Series(aa_test(df, 10000, 500, 2, 3), name='p-value')"
   ]
  },
  {
   "cell_type": "code",
   "execution_count": 7,
   "id": "eef08060-a562-4471-8d6c-35006a84b13e",
   "metadata": {},
   "outputs": [
    {
     "data": {
      "image/png": "[encoded data removed]",
      "text/plain": [
       "<Figure size 432x288 with 1 Axes>"
      ]
     },
     "metadata": {},
     "output_type": "display_data"
    }
   ],
   "source": [
    "plt.figure()\n",
    "sns.histplot(result_ttest)\n",
    "plt.show()"
   ]
  },
  {
   "cell_type": "code",
   "execution_count": 8,
   "id": "1483d16e-42ba-4759-ab7a-83ae54c3b677",
   "metadata": {},
   "outputs": [
    {
     "name": "stdout",
     "output_type": "stream",
     "text": [
      "В 4.83 % случаев p-values меньше или равен 0.05\n"
     ]
    }
   ],
   "source": [
    "print(f'В {(result_ttest <= 0.05).mean()*100} % случаев p-values меньше или равен 0.05')"
   ]
  },
  {
   "cell_type": "markdown",
   "id": "5bee78c3-373c-4ed3-a0d5-bf3244faf74b",
   "metadata": {},
   "source": [
    "## Выводы: \n",
    "- При проведении множества AA-тестов статистически значимые различия (p-value <= 0.05) наблюдалосб лишь в  ≈4.5% случаев.  \n",
    "- Распределение p-value равномерное.\n",
    "\n",
    "На основании данных выводов, можно сказать, что выбранная система сплитования работает корректно. Статистически значимых различий между группами не наблюдается.  "
   ]
  },
  {
   "cell_type": "code",
   "execution_count": null,
   "id": "033696dd-328b-4c55-af80-c2f4e123a424",
   "metadata": {},
   "outputs": [],
   "source": []
  }
 ],
 "metadata": {
  "kernelspec": {
   "display_name": "Python 3 (ipykernel)",
   "language": "python",
   "name": "python3"
  },
  "language_info": {
   "codemirror_mode": {
    "name": "ipython",
    "version": 3
   },
   "file_extension": ".py",
   "mimetype": "text/x-python",
   "name": "python",
   "nbconvert_exporter": "python",
   "pygments_lexer": "ipython3",
   "version": "3.8.10"
  }
 },
 "nbformat": 4,
 "nbformat_minor": 5
}
