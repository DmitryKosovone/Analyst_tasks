{
 "cells": [
  {
   "cell_type": "markdown",
   "id": "bdcb5762-de98-4fcb-aa0b-fe9c5520747d",
   "metadata": {},
   "source": [
    "# AB-тест"
   ]
  },
  {
   "cell_type": "markdown",
   "id": "378990f8-938d-47f7-b02f-2681d1c1c494",
   "metadata": {},
   "source": [
    "**Описание** : Команда ML разработала новый алгоритм рекомендательной постов. На тестовой группе (2) был использован новыый алгоритм. Необходимо проверить гипотезу о том, что новый алгоритм рекомендации постов во 2-й группе приведет к увеличению CTR.\n",
    "\n",
    "\n",
    "**Задачи** : По данным с '2024-08-02 по 2024-08-08':\n",
    "\n",
    "1. Расчитать метрику \"линеаризованные лайки\"\n",
    "2. Сравнить с помощью t-test значение p-value рассматривая \"обычный CTR\" и \"линеаризованные лайки\" для групп (1,2), (0,3)\n",
    "\n",
    "**Рассмтариваемый показатель** : CTR, линеаризованные лайки\n",
    "**Используемые методы** : t-test"
   ]
  },
  {
   "cell_type": "code",
   "execution_count": 1,
   "id": "9454edce-8e55-4ce7-accd-7454d49e2a78",
   "metadata": {},
   "outputs": [],
   "source": [
    "import pandas as pd\n",
    "import pandahouse as ph\n",
    "import matplotlib.pyplot as plt\n",
    "import seaborn as sns\n",
    "import numpy as np\n",
    "from scipy import stats\n",
    "\n",
    "\n",
    "sns.set_style(\"whitegrid\", {\"axes.facecolor\": \"white\"})"
   ]
  },
  {
   "cell_type": "markdown",
   "id": "71beefd4-304d-4fcb-b1f3-89b1acf658d0",
   "metadata": {},
   "source": [
    "## 1 Подготовка данных"
   ]
  },
  {
   "cell_type": "code",
   "execution_count": 2,
   "id": "4dd4a31a-b437-4dd6-bc2c-baaca1842fd4",
   "metadata": {},
   "outputs": [],
   "source": [
    "connection = {'host': 'https://clickhouse.lab.karpov.courses',\n",
    "'database':'simulator_20240820',\n",
    "'user':'student',\n",
    "'password':'dpo_python_2020'\n",
    "}\n",
    "\n",
    "#текст запроса\n",
    "query = '''\n",
    "select user_id, countIf(action='view')  as views, countIf(action='like')  as likes, countIf(action='like')/countIf(action='view') as ctr, exp_group\n",
    "from simulator_20240820.feed_actions\n",
    "where toDate(time) between '2024-08-02' and '2024-08-08'  and exp_group in [0,1,2,3]\n",
    "group by user_id, exp_group\n",
    "'''\n",
    "\n",
    "# эта функция выполнит запрос и запишет его результат в pandas DataFrame\n",
    "df = ph.read_clickhouse(query, connection=connection)"
   ]
  },
  {
   "cell_type": "code",
   "execution_count": 3,
   "id": "051182a8-a7d1-4811-bb18-a87bda625202",
   "metadata": {},
   "outputs": [
    {
     "data": {
      "text/html": [
       "<div>\n",
       "<style scoped>\n",
       "    .dataframe tbody tr th:only-of-type {\n",
       "        vertical-align: middle;\n",
       "    }\n",
       "\n",
       "    .dataframe tbody tr th {\n",
       "        vertical-align: top;\n",
       "    }\n",
       "\n",
       "    .dataframe thead th {\n",
       "        text-align: right;\n",
       "    }\n",
       "</style>\n",
       "<table border=\"1\" class=\"dataframe\">\n",
       "  <thead>\n",
       "    <tr style=\"text-align: right;\">\n",
       "      <th></th>\n",
       "      <th>user_id</th>\n",
       "      <th>views</th>\n",
       "      <th>likes</th>\n",
       "      <th>ctr</th>\n",
       "      <th>exp_group</th>\n",
       "    </tr>\n",
       "  </thead>\n",
       "  <tbody>\n",
       "    <tr>\n",
       "      <th>0</th>\n",
       "      <td>115383</td>\n",
       "      <td>44</td>\n",
       "      <td>12</td>\n",
       "      <td>0.272727</td>\n",
       "      <td>3</td>\n",
       "    </tr>\n",
       "    <tr>\n",
       "      <th>1</th>\n",
       "      <td>18392</td>\n",
       "      <td>32</td>\n",
       "      <td>7</td>\n",
       "      <td>0.218750</td>\n",
       "      <td>1</td>\n",
       "    </tr>\n",
       "    <tr>\n",
       "      <th>2</th>\n",
       "      <td>123580</td>\n",
       "      <td>11</td>\n",
       "      <td>2</td>\n",
       "      <td>0.181818</td>\n",
       "      <td>3</td>\n",
       "    </tr>\n",
       "    <tr>\n",
       "      <th>3</th>\n",
       "      <td>131473</td>\n",
       "      <td>108</td>\n",
       "      <td>9</td>\n",
       "      <td>0.083333</td>\n",
       "      <td>2</td>\n",
       "    </tr>\n",
       "    <tr>\n",
       "      <th>4</th>\n",
       "      <td>32420</td>\n",
       "      <td>44</td>\n",
       "      <td>13</td>\n",
       "      <td>0.295455</td>\n",
       "      <td>2</td>\n",
       "    </tr>\n",
       "  </tbody>\n",
       "</table>\n",
       "</div>"
      ],
      "text/plain": [
       "   user_id  views  likes       ctr  exp_group\n",
       "0   115383     44     12  0.272727          3\n",
       "1    18392     32      7  0.218750          1\n",
       "2   123580     11      2  0.181818          3\n",
       "3   131473    108      9  0.083333          2\n",
       "4    32420     44     13  0.295455          2"
      ]
     },
     "execution_count": 3,
     "metadata": {},
     "output_type": "execute_result"
    }
   ],
   "source": [
    "df.head()"
   ]
  },
  {
   "cell_type": "code",
   "execution_count": 4,
   "id": "3ce2126e-d999-41a8-96a2-b6a977b44572",
   "metadata": {},
   "outputs": [
    {
     "data": {
      "image/png": "[encoded data removed]",
      "text/plain": [
       "<Figure size 432x288 with 1 Axes>"
      ]
     },
     "metadata": {},
     "output_type": "display_data"
    }
   ],
   "source": [
    "sns.histplot(data=df, x='ctr', hue='exp_group')\n",
    "plt.show()"
   ]
  },
  {
   "cell_type": "markdown",
   "id": "7ad0a950-ceb8-449b-9b73-87488e33e062",
   "metadata": {},
   "source": [
    "## 1.1 Расчёт метрики linearized_likes"
   ]
  },
  {
   "cell_type": "code",
   "execution_count": 5,
   "id": "6ef6301f-3445-4bdb-918a-61916dbf9b44",
   "metadata": {},
   "outputs": [],
   "source": [
    "# Расчёт глобального CTR\n",
    "\n",
    "global_ctr1 = df[df.exp_group == 1].likes.sum()/df[df.exp_group == 1].views.sum()\n",
    "global_ctr0 = df[df.exp_group == 0].likes.sum()/df[df.exp_group == 0].views.sum()\n",
    "\n",
    "df['global_ctr'] = df['exp_group'].apply(\n",
    "    lambda x: global_ctr1 if x in [1,2] else global_ctr0)"
   ]
  },
  {
   "cell_type": "code",
   "execution_count": 6,
   "id": "395120b8-1927-42cd-a1ce-af9f596bec73",
   "metadata": {},
   "outputs": [],
   "source": [
    "# Расчёт linearized_likes\n",
    "\n",
    "df['linearized_likes'] = df['likes'] - df['global_ctr'] * df['views']"
   ]
  },
  {
   "cell_type": "code",
   "execution_count": 7,
   "id": "3a74cda7-0493-4a15-b3b2-8330d9838cfa",
   "metadata": {},
   "outputs": [
    {
     "data": {
      "image/png": "[encoded data removed]",
      "text/plain": [
       "<Figure size 432x288 with 1 Axes>"
      ]
     },
     "metadata": {},
     "output_type": "display_data"
    }
   ],
   "source": [
    "# Распределение linearized_likes\n",
    "\n",
    "sns.histplot(data=df, x='linearized_likes', hue='exp_group')\n",
    "plt.show()"
   ]
  },
  {
   "cell_type": "code",
   "execution_count": 8,
   "id": "9a84ea28-2995-4d52-9181-d0b8288945c0",
   "metadata": {},
   "outputs": [
    {
     "name": "stderr",
     "output_type": "stream",
     "text": [
      "/tmp/ipykernel_399/949315969.py:1: FutureWarning: Indexing with multiple keys (implicitly converted to a tuple of keys) will be deprecated, use a list instead.\n",
      "  df.groupby('exp_group')['ctr', 'linearized_likes'].agg(['mean', 'median'])\n"
     ]
    },
    {
     "data": {
      "text/html": [
       "<div>\n",
       "<style scoped>\n",
       "    .dataframe tbody tr th:only-of-type {\n",
       "        vertical-align: middle;\n",
       "    }\n",
       "\n",
       "    .dataframe tbody tr th {\n",
       "        vertical-align: top;\n",
       "    }\n",
       "\n",
       "    .dataframe thead tr th {\n",
       "        text-align: left;\n",
       "    }\n",
       "\n",
       "    .dataframe thead tr:last-of-type th {\n",
       "        text-align: right;\n",
       "    }\n",
       "</style>\n",
       "<table border=\"1\" class=\"dataframe\">\n",
       "  <thead>\n",
       "    <tr>\n",
       "      <th></th>\n",
       "      <th colspan=\"2\" halign=\"left\">ctr</th>\n",
       "      <th colspan=\"2\" halign=\"left\">linearized_likes</th>\n",
       "    </tr>\n",
       "    <tr>\n",
       "      <th></th>\n",
       "      <th>mean</th>\n",
       "      <th>median</th>\n",
       "      <th>mean</th>\n",
       "      <th>median</th>\n",
       "    </tr>\n",
       "    <tr>\n",
       "      <th>exp_group</th>\n",
       "      <th></th>\n",
       "      <th></th>\n",
       "      <th></th>\n",
       "      <th></th>\n",
       "    </tr>\n",
       "  </thead>\n",
       "  <tbody>\n",
       "    <tr>\n",
       "      <th>0</th>\n",
       "      <td>0.216858</td>\n",
       "      <td>0.205357</td>\n",
       "      <td>8.022257e-17</td>\n",
       "      <td>-0.219793</td>\n",
       "    </tr>\n",
       "    <tr>\n",
       "      <th>1</th>\n",
       "      <td>0.216774</td>\n",
       "      <td>0.205882</td>\n",
       "      <td>-2.691127e-16</td>\n",
       "      <td>-0.157041</td>\n",
       "    </tr>\n",
       "    <tr>\n",
       "      <th>2</th>\n",
       "      <td>0.216102</td>\n",
       "      <td>0.153285</td>\n",
       "      <td>-6.245119e-01</td>\n",
       "      <td>-1.724854</td>\n",
       "    </tr>\n",
       "    <tr>\n",
       "      <th>3</th>\n",
       "      <td>0.233192</td>\n",
       "      <td>0.222222</td>\n",
       "      <td>1.094844e+00</td>\n",
       "      <td>0.642592</td>\n",
       "    </tr>\n",
       "  </tbody>\n",
       "</table>\n",
       "</div>"
      ],
      "text/plain": [
       "                ctr           linearized_likes          \n",
       "               mean    median             mean    median\n",
       "exp_group                                               \n",
       "0          0.216858  0.205357     8.022257e-17 -0.219793\n",
       "1          0.216774  0.205882    -2.691127e-16 -0.157041\n",
       "2          0.216102  0.153285    -6.245119e-01 -1.724854\n",
       "3          0.233192  0.222222     1.094844e+00  0.642592"
      ]
     },
     "execution_count": 8,
     "metadata": {},
     "output_type": "execute_result"
    }
   ],
   "source": [
    "df.groupby('exp_group')['ctr', 'linearized_likes'].agg(['mean', 'median'])"
   ]
  },
  {
   "cell_type": "markdown",
   "id": "7c45d10e-a3c8-476d-89b8-b1b642ea9866",
   "metadata": {},
   "source": [
    "## 2 Анализ linearized_likes и CTR в двух группах"
   ]
  },
  {
   "cell_type": "markdown",
   "id": "71963646-cf68-4b1e-b981-3a62516c2a9d",
   "metadata": {},
   "source": [
    "### Формирование гипотез:\n",
    "- H0: linearized_likes контрольной группы и linearized_likes эспериментальной группы не различаются \n",
    "- H1: linearized_likes контрольной группы и linearized_likes эспериментальной группы различаются"
   ]
  },
  {
   "cell_type": "markdown",
   "id": "e2e113c3-43fa-459c-a065-86753c050073",
   "metadata": {},
   "source": [
    "### 2.1 t-test групп (0,3)"
   ]
  },
  {
   "cell_type": "code",
   "execution_count": 13,
   "id": "c95f00d6-8842-419f-9c90-6767d785d98f",
   "metadata": {},
   "outputs": [
    {
     "data": {
      "image/png": "[encoded data removed]",
      "text/plain": [
       "<Figure size 432x288 with 1 Axes>"
      ]
     },
     "metadata": {},
     "output_type": "display_data"
    }
   ],
   "source": [
    "sns.histplot(data=df[df.exp_group.isin([0,3])], x='linearized_likes', hue='exp_group')\n",
    "plt.show()"
   ]
  },
  {
   "cell_type": "code",
   "execution_count": 15,
   "id": "5e7913d1-ed6b-48c2-825d-fe35a09f5848",
   "metadata": {},
   "outputs": [
    {
     "data": {
      "image/png": "[encoded data removed]",
      "text/plain": [
       "<Figure size 432x288 with 1 Axes>"
      ]
     },
     "metadata": {},
     "output_type": "display_data"
    }
   ],
   "source": [
    "sns.histplot(data=df[df.exp_group.isin([0,3])], x='ctr', hue='exp_group')\n",
    "plt.show()"
   ]
  },
  {
   "cell_type": "code",
   "execution_count": 9,
   "id": "05b137bf-4b06-4593-bf16-92d60ab230bd",
   "metadata": {},
   "outputs": [
    {
     "data": {
      "text/html": [
       "<div>\n",
       "<style scoped>\n",
       "    .dataframe tbody tr th:only-of-type {\n",
       "        vertical-align: middle;\n",
       "    }\n",
       "\n",
       "    .dataframe tbody tr th {\n",
       "        vertical-align: top;\n",
       "    }\n",
       "\n",
       "    .dataframe thead th {\n",
       "        text-align: right;\n",
       "    }\n",
       "</style>\n",
       "<table border=\"1\" class=\"dataframe\">\n",
       "  <thead>\n",
       "    <tr style=\"text-align: right;\">\n",
       "      <th></th>\n",
       "      <th>metrics</th>\n",
       "      <th>pvalue</th>\n",
       "    </tr>\n",
       "  </thead>\n",
       "  <tbody>\n",
       "    <tr>\n",
       "      <th>0</th>\n",
       "      <td>CTR</td>\n",
       "      <td>6.216047e-44</td>\n",
       "    </tr>\n",
       "    <tr>\n",
       "      <th>1</th>\n",
       "      <td>linearized_likes</td>\n",
       "      <td>1.491814e-58</td>\n",
       "    </tr>\n",
       "  </tbody>\n",
       "</table>\n",
       "</div>"
      ],
      "text/plain": [
       "            metrics        pvalue\n",
       "0               CTR  6.216047e-44\n",
       "1  linearized_likes  1.491814e-58"
      ]
     },
     "execution_count": 9,
     "metadata": {},
     "output_type": "execute_result"
    }
   ],
   "source": [
    "pvalue_ttest_ctr_03 = stats.ttest_ind(df[df.exp_group == 0]['ctr'], df[df.exp_group == 3]['ctr'], equal_var=False).pvalue\n",
    "pvalue_ttest_linlike_03 = stats.ttest_ind(df[df.exp_group == 0]['linearized_likes'], df[df.exp_group == 3]['linearized_likes'], equal_var=False).pvalue\n",
    "pd.DataFrame([['CTR', pvalue_ttest_ctr_03], ['linearized_likes',pvalue_ttest_linlike_03]] ,columns=['metrics', 'pvalue'])"
   ]
  },
  {
   "cell_type": "markdown",
   "id": "a285711c-3ad5-4211-870c-1bc5db99573a",
   "metadata": {},
   "source": [
    "**Вывод**: тест между группами 0 и 3 по метрике линеаризованных лайков показал снижение p-value по-сравнению с обычным CTR"
   ]
  },
  {
   "cell_type": "markdown",
   "id": "4f01adc2-beca-4199-addd-1554f56e8395",
   "metadata": {},
   "source": [
    "### 2.1 t-test групп (1,2)"
   ]
  },
  {
   "cell_type": "code",
   "execution_count": 14,
   "id": "a7e5105f-5d89-4cfb-b9c6-4efa24062a2a",
   "metadata": {},
   "outputs": [
    {
     "data": {
      "image/png": "[encoded data removed]",
      "text/plain": [
       "<Figure size 432x288 with 1 Axes>"
      ]
     },
     "metadata": {},
     "output_type": "display_data"
    }
   ],
   "source": [
    "sns.histplot(data=df[df.exp_group.isin([1,2])], x='linearized_likes', hue='exp_group')\n",
    "plt.show()"
   ]
  },
  {
   "cell_type": "code",
   "execution_count": 10,
   "id": "c2421924-eb0f-4681-88e1-721e1ed5cd3d",
   "metadata": {},
   "outputs": [
    {
     "data": {
      "text/html": [
       "<div>\n",
       "<style scoped>\n",
       "    .dataframe tbody tr th:only-of-type {\n",
       "        vertical-align: middle;\n",
       "    }\n",
       "\n",
       "    .dataframe tbody tr th {\n",
       "        vertical-align: top;\n",
       "    }\n",
       "\n",
       "    .dataframe thead th {\n",
       "        text-align: right;\n",
       "    }\n",
       "</style>\n",
       "<table border=\"1\" class=\"dataframe\">\n",
       "  <thead>\n",
       "    <tr style=\"text-align: right;\">\n",
       "      <th></th>\n",
       "      <th>metrics</th>\n",
       "      <th>pvalue</th>\n",
       "    </tr>\n",
       "  </thead>\n",
       "  <tbody>\n",
       "    <tr>\n",
       "      <th>0</th>\n",
       "      <td>CTR</td>\n",
       "      <td>6.853733e-01</td>\n",
       "    </tr>\n",
       "    <tr>\n",
       "      <th>1</th>\n",
       "      <td>linearized_likes</td>\n",
       "      <td>2.980506e-09</td>\n",
       "    </tr>\n",
       "  </tbody>\n",
       "</table>\n",
       "</div>"
      ],
      "text/plain": [
       "            metrics        pvalue\n",
       "0               CTR  6.853733e-01\n",
       "1  linearized_likes  2.980506e-09"
      ]
     },
     "execution_count": 10,
     "metadata": {},
     "output_type": "execute_result"
    }
   ],
   "source": [
    "pvalue_ttest_ctr_12 = stats.ttest_ind(df[df.exp_group == 1]['ctr'], df[df.exp_group == 2]['ctr'], equal_var=False).pvalue\n",
    "pvalue_ttest_linlike_12 = stats.ttest_ind(df[df.exp_group == 1]['linearized_likes'], df[df.exp_group == 2]['linearized_likes'], equal_var=False).pvalue\n",
    "pd.DataFrame([['CTR', pvalue_ttest_ctr_12], ['linearized_likes',pvalue_ttest_linlike_12]] ,columns=['metrics', 'pvalue'])"
   ]
  },
  {
   "cell_type": "code",
   "execution_count": 11,
   "id": "9afe8692-ae2e-4adc-a0c5-2a5a1d9c3cbc",
   "metadata": {},
   "outputs": [
    {
     "ename": "KeyError",
     "evalue": "'smothed_ctr'",
     "output_type": "error",
     "traceback": [
      "\u001b[0;31m---------------------------------------------------------------------------\u001b[0m",
      "\u001b[0;31mKeyError\u001b[0m                                  Traceback (most recent call last)",
      "File \u001b[0;32m/opt/conda/lib/python3.8/site-packages/pandas/core/indexes/base.py:3621\u001b[0m, in \u001b[0;36mIndex.get_loc\u001b[0;34m(self, key, method, tolerance)\u001b[0m\n\u001b[1;32m   3620\u001b[0m \u001b[38;5;28;01mtry\u001b[39;00m:\n\u001b[0;32m-> 3621\u001b[0m     \u001b[38;5;28;01mreturn\u001b[39;00m \u001b[38;5;28;43mself\u001b[39;49m\u001b[38;5;241;43m.\u001b[39;49m\u001b[43m_engine\u001b[49m\u001b[38;5;241;43m.\u001b[39;49m\u001b[43mget_loc\u001b[49m\u001b[43m(\u001b[49m\u001b[43mcasted_key\u001b[49m\u001b[43m)\u001b[49m\n\u001b[1;32m   3622\u001b[0m \u001b[38;5;28;01mexcept\u001b[39;00m \u001b[38;5;167;01mKeyError\u001b[39;00m \u001b[38;5;28;01mas\u001b[39;00m err:\n",
      "File \u001b[0;32m/opt/conda/lib/python3.8/site-packages/pandas/_libs/index.pyx:136\u001b[0m, in \u001b[0;36mpandas._libs.index.IndexEngine.get_loc\u001b[0;34m()\u001b[0m\n",
      "File \u001b[0;32m/opt/conda/lib/python3.8/site-packages/pandas/_libs/index.pyx:163\u001b[0m, in \u001b[0;36mpandas._libs.index.IndexEngine.get_loc\u001b[0;34m()\u001b[0m\n",
      "File \u001b[0;32mpandas/_libs/hashtable_class_helper.pxi:5198\u001b[0m, in \u001b[0;36mpandas._libs.hashtable.PyObjectHashTable.get_item\u001b[0;34m()\u001b[0m\n",
      "File \u001b[0;32mpandas/_libs/hashtable_class_helper.pxi:5206\u001b[0m, in \u001b[0;36mpandas._libs.hashtable.PyObjectHashTable.get_item\u001b[0;34m()\u001b[0m\n",
      "\u001b[0;31mKeyError\u001b[0m: 'smothed_ctr'",
      "\nThe above exception was the direct cause of the following exception:\n",
      "\u001b[0;31mKeyError\u001b[0m                                  Traceback (most recent call last)",
      "Input \u001b[0;32mIn [11]\u001b[0m, in \u001b[0;36m<module>\u001b[0;34m\u001b[0m\n\u001b[0;32m----> 1\u001b[0m pvalue__ttest_smoothed_ctr \u001b[38;5;241m=\u001b[39m stats\u001b[38;5;241m.\u001b[39mttest_ind(\u001b[43mdf\u001b[49m\u001b[43m[\u001b[49m\u001b[43mdf\u001b[49m\u001b[38;5;241;43m.\u001b[39;49m\u001b[43mexp_group\u001b[49m\u001b[43m \u001b[49m\u001b[38;5;241;43m==\u001b[39;49m\u001b[43m \u001b[49m\u001b[38;5;241;43m1\u001b[39;49m\u001b[43m]\u001b[49m\u001b[43m[\u001b[49m\u001b[38;5;124;43m'\u001b[39;49m\u001b[38;5;124;43msmothed_ctr\u001b[39;49m\u001b[38;5;124;43m'\u001b[39;49m\u001b[43m]\u001b[49m, df[df\u001b[38;5;241m.\u001b[39mexp_group \u001b[38;5;241m==\u001b[39m \u001b[38;5;241m2\u001b[39m][\u001b[38;5;124m'\u001b[39m\u001b[38;5;124msmothed_ctr\u001b[39m\u001b[38;5;124m'\u001b[39m], equal_var\u001b[38;5;241m=\u001b[39m\u001b[38;5;28;01mFalse\u001b[39;00m)\u001b[38;5;241m.\u001b[39mpvalue\n",
      "File \u001b[0;32m/opt/conda/lib/python3.8/site-packages/pandas/core/frame.py:3505\u001b[0m, in \u001b[0;36mDataFrame.__getitem__\u001b[0;34m(self, key)\u001b[0m\n\u001b[1;32m   3503\u001b[0m \u001b[38;5;28;01mif\u001b[39;00m \u001b[38;5;28mself\u001b[39m\u001b[38;5;241m.\u001b[39mcolumns\u001b[38;5;241m.\u001b[39mnlevels \u001b[38;5;241m>\u001b[39m \u001b[38;5;241m1\u001b[39m:\n\u001b[1;32m   3504\u001b[0m     \u001b[38;5;28;01mreturn\u001b[39;00m \u001b[38;5;28mself\u001b[39m\u001b[38;5;241m.\u001b[39m_getitem_multilevel(key)\n\u001b[0;32m-> 3505\u001b[0m indexer \u001b[38;5;241m=\u001b[39m \u001b[38;5;28;43mself\u001b[39;49m\u001b[38;5;241;43m.\u001b[39;49m\u001b[43mcolumns\u001b[49m\u001b[38;5;241;43m.\u001b[39;49m\u001b[43mget_loc\u001b[49m\u001b[43m(\u001b[49m\u001b[43mkey\u001b[49m\u001b[43m)\u001b[49m\n\u001b[1;32m   3506\u001b[0m \u001b[38;5;28;01mif\u001b[39;00m is_integer(indexer):\n\u001b[1;32m   3507\u001b[0m     indexer \u001b[38;5;241m=\u001b[39m [indexer]\n",
      "File \u001b[0;32m/opt/conda/lib/python3.8/site-packages/pandas/core/indexes/base.py:3623\u001b[0m, in \u001b[0;36mIndex.get_loc\u001b[0;34m(self, key, method, tolerance)\u001b[0m\n\u001b[1;32m   3621\u001b[0m     \u001b[38;5;28;01mreturn\u001b[39;00m \u001b[38;5;28mself\u001b[39m\u001b[38;5;241m.\u001b[39m_engine\u001b[38;5;241m.\u001b[39mget_loc(casted_key)\n\u001b[1;32m   3622\u001b[0m \u001b[38;5;28;01mexcept\u001b[39;00m \u001b[38;5;167;01mKeyError\u001b[39;00m \u001b[38;5;28;01mas\u001b[39;00m err:\n\u001b[0;32m-> 3623\u001b[0m     \u001b[38;5;28;01mraise\u001b[39;00m \u001b[38;5;167;01mKeyError\u001b[39;00m(key) \u001b[38;5;28;01mfrom\u001b[39;00m \u001b[38;5;21;01merr\u001b[39;00m\n\u001b[1;32m   3624\u001b[0m \u001b[38;5;28;01mexcept\u001b[39;00m \u001b[38;5;167;01mTypeError\u001b[39;00m:\n\u001b[1;32m   3625\u001b[0m     \u001b[38;5;66;03m# If we have a listlike key, _check_indexing_error will raise\u001b[39;00m\n\u001b[1;32m   3626\u001b[0m     \u001b[38;5;66;03m#  InvalidIndexError. Otherwise we fall through and re-raise\u001b[39;00m\n\u001b[1;32m   3627\u001b[0m     \u001b[38;5;66;03m#  the TypeError.\u001b[39;00m\n\u001b[1;32m   3628\u001b[0m     \u001b[38;5;28mself\u001b[39m\u001b[38;5;241m.\u001b[39m_check_indexing_error(key)\n",
      "\u001b[0;31mKeyError\u001b[0m: 'smothed_ctr'"
     ]
    }
   ],
   "source": [
    "pvalue__ttest_smoothed_ctr = stats.ttest_ind(df[df.exp_group == 1]['smothed_ctr'], df[df.exp_group == 2]['smothed_ctr'], equal_var=False).pvalue"
   ]
  },
  {
   "cell_type": "code",
   "execution_count": null,
   "id": "fff3c6c6-9cfe-4c6d-a385-76fff3e2a3fd",
   "metadata": {},
   "outputs": [],
   "source": [
    "pvalue_Mann_smoothed_ctr = stats.mannwhitneyu(df[df.exp_group == 1]['smothed_ctr'], df[df.exp_group == 2]['smothed_ctr']).pvalue"
   ]
  },
  {
   "cell_type": "markdown",
   "id": "5e12fe88-c00d-444c-8ab4-1f160247a9e5",
   "metadata": {},
   "source": [
    "**Вывод**: тест между группами 1 и 2 по метрике линеаризованных лайков показал снижение p-value по-сравнению с обычным CTR. При анализе метрики линеаризованных лайков, можно отвергнуть гипотезу о равенстве этих метрик в контрольной и тестовой группе. Различия от обычного CTR обусловлено изменением харакетера распределения "
   ]
  },
  {
   "cell_type": "code",
   "execution_count": null,
   "id": "dcd8d8d6-93d3-4fbd-8265-354fc65256ae",
   "metadata": {},
   "outputs": [],
   "source": []
  }
 ],
 "metadata": {
  "kernelspec": {
   "display_name": "Python 3 (ipykernel)",
   "language": "python",
   "name": "python3"
  },
  "language_info": {
   "codemirror_mode": {
    "name": "ipython",
    "version": 3
   },
   "file_extension": ".py",
   "mimetype": "text/x-python",
   "name": "python",
   "nbconvert_exporter": "python",
   "pygments_lexer": "ipython3",
   "version": "3.8.10"
  }
 },
 "nbformat": 4,
 "nbformat_minor": 5
}
